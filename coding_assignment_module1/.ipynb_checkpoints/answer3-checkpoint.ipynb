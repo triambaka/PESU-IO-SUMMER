{
 "cells": [
  {
   "cell_type": "code",
   "execution_count": 22,
   "metadata": {},
   "outputs": [
    {
     "name": "stdout",
     "output_type": "stream",
     "text": [
      "Enter the elements in ascending order1,2,3\n",
      "Enter the element you want to search5\n",
      "['1', '2', '3']\n",
      "not found\n"
     ]
    }
   ],
   "source": [
    "a=input(\"Enter the elements in ascending order\").split(\",\")\n",
    "b=int(input(\"Enter the element you want to search\"))\n",
    "beg=0\n",
    "end=len(a)-1\n",
    "key=-1\n",
    "while(beg<=end and key==-1):\n",
    "    mid=int((int(beg)+int(end))//2)\n",
    "    if b==int(a[mid]) :\n",
    "        print(\"Element found at \" )\n",
    "        print(mid+1)\n",
    "        key=1\n",
    "    elif (b>int(a[mid])):\n",
    "        beg=mid+1\n",
    "    else:\n",
    "        end=mid-1\n",
    "if key==-1:\n",
    "    print(\"not found\")\n",
    "\n",
    "        \n",
    "    \n",
    "\n"
   ]
  },
  {
   "cell_type": "code",
   "execution_count": null,
   "metadata": {},
   "outputs": [],
   "source": []
  }
 ],
 "metadata": {
  "kernelspec": {
   "display_name": "Python 3",
   "language": "python",
   "name": "python3"
  },
  "language_info": {
   "codemirror_mode": {
    "name": "ipython",
    "version": 3
   },
   "file_extension": ".py",
   "mimetype": "text/x-python",
   "name": "python",
   "nbconvert_exporter": "python",
   "pygments_lexer": "ipython3",
   "version": "3.7.0"
  }
 },
 "nbformat": 4,
 "nbformat_minor": 2
}
