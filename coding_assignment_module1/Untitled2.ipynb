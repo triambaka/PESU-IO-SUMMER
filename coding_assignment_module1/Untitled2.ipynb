{
 "cells": [
  {
   "cell_type": "code",
   "execution_count": 10,
   "metadata": {},
   "outputs": [
    {
     "ename": "SyntaxError",
     "evalue": "invalid syntax (<ipython-input-10-c3441738e2b0>, line 10)",
     "output_type": "error",
     "traceback": [
      "\u001b[1;36m  File \u001b[1;32m\"<ipython-input-10-c3441738e2b0>\"\u001b[1;36m, line \u001b[1;32m10\u001b[0m\n\u001b[1;33m    if b==a[mid]:\u001b[0m\n\u001b[1;37m                ^\u001b[0m\n\u001b[1;31mSyntaxError\u001b[0m\u001b[1;31m:\u001b[0m invalid syntax\n"
     ]
    }
   ],
   "source": [
    "a=input(\"Enter the elements in ascending order\").split(\",\")\n",
    "b=int(input(\"Enter the element you want to search\"))\n",
    "s = [int(i) for i in a]\n",
    "print(a)\n",
    "beg=0\n",
    "end=len(a)-1\n",
    "key=-1\n",
    "while(beg<=end and key==-1):\n",
    "    mid=int((int(beg)+int(end)/2)\n",
    "    if b==a[mid]:\n",
    "        print(\"Element found at \" +(mid+1))\n",
    "        key=1\n",
    "    elif(b>a[mid])\n",
    "        beg=mid+1\n",
    "    else\n",
    "        end=mid-1\n",
    "if key==-1\n",
    "    print(\"not found\")\n",
    "\n",
    "        \n",
    "    \n",
    "\n"
   ]
  },
  {
   "cell_type": "code",
   "execution_count": null,
   "metadata": {},
   "outputs": [],
   "source": []
  }
 ],
 "metadata": {
  "kernelspec": {
   "display_name": "Python 3",
   "language": "python",
   "name": "python3"
  },
  "language_info": {
   "codemirror_mode": {
    "name": "ipython",
    "version": 3
   },
   "file_extension": ".py",
   "mimetype": "text/x-python",
   "name": "python",
   "nbconvert_exporter": "python",
   "pygments_lexer": "ipython3",
   "version": "3.7.0"
  }
 },
 "nbformat": 4,
 "nbformat_minor": 2
}
